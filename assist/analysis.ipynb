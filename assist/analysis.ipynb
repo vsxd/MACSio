{
 "cells": [
  {
   "cell_type": "markdown",
   "id": "74a16244",
   "metadata": {},
   "source": [
    "# Process log data"
   ]
  },
  {
   "cell_type": "code",
   "execution_count": 1,
   "id": "5b6fbc98",
   "metadata": {},
   "outputs": [],
   "source": [
    "import os, sys, shutil, csv, re\n",
    "import pandas as pd\n",
    "import numpy as np\n",
    "\n",
    "csv_cols = ['cores', 'backend', 'part_size', 'part_type', \n",
    "            'test_type', 'size(MiB)', 'time(s)', 'speed(MiB/s)']\n",
    "#parse macsio log files and generate .csv files\n",
    "def parse_logs(target_dir):\n",
    "    all_info = []\n",
    "\n",
    "    for parent, dirnames, filenames in os.walk(target_dir, followlinks=True):\n",
    "        for filename in filenames:\n",
    "            if 'log-' not in filename:\n",
    "                continue\n",
    "#             print(filename)\n",
    "            name_t = filename.split('-')\n",
    "            backend = name_t[1]\n",
    "            part_size = name_t[2]\n",
    "            part_type = name_t[3]\n",
    "            test_type = name_t[4]\n",
    "            cores = name_t[5].split('.')[0][1:]\n",
    "\n",
    "            with open(parent+'/'+filename, 'r') as f:\n",
    "                for line in f:\n",
    "                    if 'Total Bytes' in line:\n",
    "                        pattern_str = r\"\\s(\\d+.\\d+)\\s([M|G|K]i).+?\\s(\\d+.\\d+)\\s(m?secs|mins).+?(\\d+.\\d+)\\s([M|G|K]i\\/sec).*\"\n",
    "#                         print(line)\n",
    "                        result = re.search(pattern_str, line)\n",
    "                        if result.group(2) == 'Ki':\n",
    "                            size = float(result.group(1))/1024\n",
    "                        else:\n",
    "                            size = float(result.group(1))*1024 if result.group(2) == 'Gi' else result.group(1)\n",
    "                        if result.group(4) == 'mins':\n",
    "                            time = float(result.group(3))*60\n",
    "                        else:\n",
    "                            time = float(result.group(3))/1000 if result.group(4) == 'msecs' else result.group(3)\n",
    "                        if result.group(6) == 'Ki/sec':\n",
    "                            speed = float(result.group(5))/1024\n",
    "                        else:\n",
    "                            speed = float(result.group(5))*1024 if result.group(6) == 'Gi/sec' else result.group(5)\n",
    "                        break\n",
    "                    else:\n",
    "                        continue\n",
    "            all_info.append([cores, backend, part_size, part_type, test_type, size, time, speed])\n",
    "\n",
    "    with open(target_dir+'/'+'data.csv', 'w') as f:\n",
    "        csv_writer = csv.writer(f)\n",
    "        csv_writer.writerow(csv_cols)\n",
    "        csv_writer.writerows(all_info)\n",
    "\n",
    "# merge all csv data to one dataframe\n",
    "def get_df(target_dirs):\n",
    "    df = pd.DataFrame(columns=csv_cols)\n",
    "    for d in target_dirs:\n",
    "        temp = pd.read_csv(d+'/'+'data.csv')\n",
    "        df = pd.concat([df, temp])\n",
    "        df.sort_values(by=['part_size', 'cores'],ascending=True,inplace=True,\n",
    "                     na_position='first')\n",
    "        df.reset_index(inplace=True, drop=True)\n",
    "    def rename_label(x):\n",
    "        x /= 1000\n",
    "        x = round(x, 2)\n",
    "        x *= 1000\n",
    "        return int(x)\n",
    "    df['Data volume(MiB)'] = df['size(MiB)'].apply(rename_label)\n",
    "    return df\n",
    "\n",
    "\n",
    "part_size_list = ['100K', '10K', '1K']\n",
    "\n",
    "# Filte and group by\n",
    "def df_groupby(df, test_type, part_type, backend):\n",
    "    df = df[(df['test_type'] == test_type) & (df['part_type'] == part_type) & (df['backend'] == backend)]\n",
    "    df = df.groupby(['cores', 'part_size'], as_index=False).mean()\n",
    "    return df\n",
    "\n",
    "# Calc speedup\n",
    "def calc_speedup(df, test_type, part_type, backend, cores):\n",
    "    df1 = df_groupby(df, test_type, part_type, backend=backend)\n",
    "\n",
    "    core1_dict = dict()\n",
    "    for s in part_size_list:\n",
    "        core1_dict[s] = df1.loc[(df1['part_size'] == s) & (df1['cores'] == cores)]['time(s)'].iloc[0]\n",
    "    print(core1_dict)\n",
    "    \n",
    "    for s in part_size_list:\n",
    "        df[s] = core1_dict[s]/df[(df['part_size'] == s)]['time(s)']\n",
    "    \n",
    "    df.fillna(0, inplace=True)\n",
    "    df['speedup'] = 0\n",
    "    for s in part_size_list:\n",
    "        df['speedup'] += df[s]\n",
    "    \n",
    "    df.drop(columns=part_size_list, inplace=True)\n",
    "    \n",
    "    df = df[(df['test_type'] == test_type) & (df['part_type'] == part_type) & (df['backend'] == backend)]\n",
    "    df.reset_index(inplace=True, drop=True)\n",
    "    return df\n",
    "\n",
    "def calc_std_table(df, test_type, part_type, backend='lustre'):\n",
    "    df = df[(df['test_type'] == test_type) & (df['part_type'] == part_type) & (df['backend'] == backend)]\n",
    "    std = df.groupby(['cores', 'part_size'], as_index=False).std().fillna(0)\n",
    "\n",
    "    return std"
   ]
  },
  {
   "cell_type": "code",
   "execution_count": 2,
   "id": "112fc58e",
   "metadata": {},
   "outputs": [
    {
     "data": {
      "text/html": [
       "<div>\n",
       "<style scoped>\n",
       "    .dataframe tbody tr th:only-of-type {\n",
       "        vertical-align: middle;\n",
       "    }\n",
       "\n",
       "    .dataframe tbody tr th {\n",
       "        vertical-align: top;\n",
       "    }\n",
       "\n",
       "    .dataframe thead th {\n",
       "        text-align: right;\n",
       "    }\n",
       "</style>\n",
       "<table border=\"1\" class=\"dataframe\">\n",
       "  <thead>\n",
       "    <tr style=\"text-align: right;\">\n",
       "      <th></th>\n",
       "      <th>cores</th>\n",
       "      <th>backend</th>\n",
       "      <th>part_size</th>\n",
       "      <th>part_type</th>\n",
       "      <th>test_type</th>\n",
       "      <th>size(MiB)</th>\n",
       "      <th>time(s)</th>\n",
       "      <th>speed(MiB/s)</th>\n",
       "      <th>Data volume(MiB)</th>\n",
       "    </tr>\n",
       "  </thead>\n",
       "  <tbody>\n",
       "    <tr>\n",
       "      <th>0</th>\n",
       "      <td>1.0</td>\n",
       "      <td>lustre</td>\n",
       "      <td>100K</td>\n",
       "      <td>rectilinear</td>\n",
       "      <td>strong</td>\n",
       "      <td>21200.5888</td>\n",
       "      <td>8.567700</td>\n",
       "      <td>2474.4960</td>\n",
       "      <td>21200</td>\n",
       "    </tr>\n",
       "    <tr>\n",
       "      <th>1</th>\n",
       "      <td>1.0</td>\n",
       "      <td>lustre</td>\n",
       "      <td>100K</td>\n",
       "      <td>rectilinear</td>\n",
       "      <td>weak</td>\n",
       "      <td>2650.1120</td>\n",
       "      <td>0.572739</td>\n",
       "      <td>4627.0464</td>\n",
       "      <td>2650</td>\n",
       "    </tr>\n",
       "    <tr>\n",
       "      <th>2</th>\n",
       "      <td>1.0</td>\n",
       "      <td>lustre</td>\n",
       "      <td>100K</td>\n",
       "      <td>rectilinear</td>\n",
       "      <td>strong</td>\n",
       "      <td>21200.5888</td>\n",
       "      <td>13.111600</td>\n",
       "      <td>1616.8960</td>\n",
       "      <td>21200</td>\n",
       "    </tr>\n",
       "    <tr>\n",
       "      <th>3</th>\n",
       "      <td>1.0</td>\n",
       "      <td>lustre</td>\n",
       "      <td>100K</td>\n",
       "      <td>rectilinear</td>\n",
       "      <td>weak</td>\n",
       "      <td>2650.1120</td>\n",
       "      <td>0.590729</td>\n",
       "      <td>4486.1440</td>\n",
       "      <td>2650</td>\n",
       "    </tr>\n",
       "    <tr>\n",
       "      <th>4</th>\n",
       "      <td>1.0</td>\n",
       "      <td>lustre</td>\n",
       "      <td>100K</td>\n",
       "      <td>rectilinear</td>\n",
       "      <td>strong</td>\n",
       "      <td>21200.5888</td>\n",
       "      <td>13.206600</td>\n",
       "      <td>1605.3248</td>\n",
       "      <td>21200</td>\n",
       "    </tr>\n",
       "    <tr>\n",
       "      <th>...</th>\n",
       "      <td>...</td>\n",
       "      <td>...</td>\n",
       "      <td>...</td>\n",
       "      <td>...</td>\n",
       "      <td>...</td>\n",
       "      <td>...</td>\n",
       "      <td>...</td>\n",
       "      <td>...</td>\n",
       "      <td>...</td>\n",
       "    </tr>\n",
       "    <tr>\n",
       "      <th>229</th>\n",
       "      <td>32.0</td>\n",
       "      <td>lustre</td>\n",
       "      <td>1K</td>\n",
       "      <td>rectilinear</td>\n",
       "      <td>weak</td>\n",
       "      <td>803.7598</td>\n",
       "      <td>0.954970</td>\n",
       "      <td>841.6595</td>\n",
       "      <td>800</td>\n",
       "    </tr>\n",
       "    <tr>\n",
       "      <th>230</th>\n",
       "      <td>32.0</td>\n",
       "      <td>lustre</td>\n",
       "      <td>1K</td>\n",
       "      <td>rectilinear</td>\n",
       "      <td>strong</td>\n",
       "      <td>201.6650</td>\n",
       "      <td>1.402900</td>\n",
       "      <td>143.7452</td>\n",
       "      <td>200</td>\n",
       "    </tr>\n",
       "    <tr>\n",
       "      <th>231</th>\n",
       "      <td>32.0</td>\n",
       "      <td>lustre</td>\n",
       "      <td>1K</td>\n",
       "      <td>rectilinear</td>\n",
       "      <td>weak</td>\n",
       "      <td>803.7598</td>\n",
       "      <td>0.915130</td>\n",
       "      <td>878.3007</td>\n",
       "      <td>800</td>\n",
       "    </tr>\n",
       "    <tr>\n",
       "      <th>232</th>\n",
       "      <td>32.0</td>\n",
       "      <td>lustre</td>\n",
       "      <td>1K</td>\n",
       "      <td>rectilinear</td>\n",
       "      <td>strong</td>\n",
       "      <td>201.6650</td>\n",
       "      <td>4.032700</td>\n",
       "      <td>50.0080</td>\n",
       "      <td>200</td>\n",
       "    </tr>\n",
       "    <tr>\n",
       "      <th>233</th>\n",
       "      <td>32.0</td>\n",
       "      <td>lustre</td>\n",
       "      <td>1K</td>\n",
       "      <td>rectilinear</td>\n",
       "      <td>weak</td>\n",
       "      <td>803.7598</td>\n",
       "      <td>0.910225</td>\n",
       "      <td>883.0342</td>\n",
       "      <td>800</td>\n",
       "    </tr>\n",
       "  </tbody>\n",
       "</table>\n",
       "<p>234 rows × 9 columns</p>\n",
       "</div>"
      ],
      "text/plain": [
       "    cores backend part_size    part_type test_type   size(MiB)    time(s)  \\\n",
       "0     1.0  lustre      100K  rectilinear    strong  21200.5888   8.567700   \n",
       "1     1.0  lustre      100K  rectilinear      weak   2650.1120   0.572739   \n",
       "2     1.0  lustre      100K  rectilinear    strong  21200.5888  13.111600   \n",
       "3     1.0  lustre      100K  rectilinear      weak   2650.1120   0.590729   \n",
       "4     1.0  lustre      100K  rectilinear    strong  21200.5888  13.206600   \n",
       "..    ...     ...       ...          ...       ...         ...        ...   \n",
       "229  32.0  lustre        1K  rectilinear      weak    803.7598   0.954970   \n",
       "230  32.0  lustre        1K  rectilinear    strong    201.6650   1.402900   \n",
       "231  32.0  lustre        1K  rectilinear      weak    803.7598   0.915130   \n",
       "232  32.0  lustre        1K  rectilinear    strong    201.6650   4.032700   \n",
       "233  32.0  lustre        1K  rectilinear      weak    803.7598   0.910225   \n",
       "\n",
       "     speed(MiB/s)  Data volume(MiB)  \n",
       "0       2474.4960             21200  \n",
       "1       4627.0464              2650  \n",
       "2       1616.8960             21200  \n",
       "3       4486.1440              2650  \n",
       "4       1605.3248             21200  \n",
       "..            ...               ...  \n",
       "229      841.6595               800  \n",
       "230      143.7452               200  \n",
       "231      878.3007               800  \n",
       "232       50.0080               200  \n",
       "233      883.0342               800  \n",
       "\n",
       "[234 rows x 9 columns]"
      ]
     },
     "execution_count": 2,
     "metadata": {},
     "output_type": "execute_result"
    }
   ],
   "source": [
    "target_dirs = ['./macsio-logs/lustre1', './macsio-logs/lustre2', \n",
    "               './macsio-logs/lustre3', './macsio-logs/lustre4', \n",
    "               './macsio-logs/minio1', './macsio-logs/minio2', \n",
    "               './macsio-logs/minio3']\n",
    "for d in target_dirs:\n",
    "    parse_logs(d)\n",
    "\n",
    "df = get_df(target_dirs)\n",
    "df['cores'] = df['cores']/36 # change cores to nodes\n",
    "\n",
    "df"
   ]
  },
  {
   "cell_type": "code",
   "execution_count": 3,
   "id": "e05126d1",
   "metadata": {},
   "outputs": [],
   "source": [
    "# try to find the significant numbser\n",
    "# df[df['backend']=='minio'].sort_values('speed(MiB/s)', ascending=False)"
   ]
  },
  {
   "cell_type": "markdown",
   "id": "a52039fc",
   "metadata": {},
   "source": [
    "---"
   ]
  },
  {
   "cell_type": "markdown",
   "id": "b2c8c6db",
   "metadata": {},
   "source": [
    "# Lustre"
   ]
  },
  {
   "cell_type": "markdown",
   "id": "9a88366b",
   "metadata": {},
   "source": [
    "## strong scaling"
   ]
  },
  {
   "cell_type": "code",
   "execution_count": 4,
   "id": "a43af91a",
   "metadata": {},
   "outputs": [
    {
     "name": "stdout",
     "output_type": "stream",
     "text": [
      "{'100K': 10.775625, '10K': 1.566513575, '1K': 0.927638775}\n"
     ]
    },
    {
     "data": {
      "text/html": [
       "<div>\n",
       "<style scoped>\n",
       "    .dataframe tbody tr th:only-of-type {\n",
       "        vertical-align: middle;\n",
       "    }\n",
       "\n",
       "    .dataframe tbody tr th {\n",
       "        vertical-align: top;\n",
       "    }\n",
       "\n",
       "    .dataframe thead th {\n",
       "        text-align: right;\n",
       "    }\n",
       "</style>\n",
       "<table border=\"1\" class=\"dataframe\">\n",
       "  <thead>\n",
       "    <tr style=\"text-align: right;\">\n",
       "      <th></th>\n",
       "      <th>cores</th>\n",
       "      <th>backend</th>\n",
       "      <th>part_size</th>\n",
       "      <th>part_type</th>\n",
       "      <th>test_type</th>\n",
       "      <th>size(MiB)</th>\n",
       "      <th>time(s)</th>\n",
       "      <th>speed(MiB/s)</th>\n",
       "      <th>Data volume(MiB)</th>\n",
       "      <th>speedup</th>\n",
       "    </tr>\n",
       "  </thead>\n",
       "  <tbody>\n",
       "    <tr>\n",
       "      <th>0</th>\n",
       "      <td>1.0</td>\n",
       "      <td>lustre</td>\n",
       "      <td>100K</td>\n",
       "      <td>rectilinear</td>\n",
       "      <td>strong</td>\n",
       "      <td>21200.5888</td>\n",
       "      <td>8.5677</td>\n",
       "      <td>2474.4960</td>\n",
       "      <td>21200</td>\n",
       "      <td>1.257703</td>\n",
       "    </tr>\n",
       "    <tr>\n",
       "      <th>1</th>\n",
       "      <td>1.0</td>\n",
       "      <td>lustre</td>\n",
       "      <td>100K</td>\n",
       "      <td>rectilinear</td>\n",
       "      <td>strong</td>\n",
       "      <td>21200.5888</td>\n",
       "      <td>13.1116</td>\n",
       "      <td>1616.8960</td>\n",
       "      <td>21200</td>\n",
       "      <td>0.821839</td>\n",
       "    </tr>\n",
       "    <tr>\n",
       "      <th>2</th>\n",
       "      <td>1.0</td>\n",
       "      <td>lustre</td>\n",
       "      <td>100K</td>\n",
       "      <td>rectilinear</td>\n",
       "      <td>strong</td>\n",
       "      <td>21200.5888</td>\n",
       "      <td>13.2066</td>\n",
       "      <td>1605.3248</td>\n",
       "      <td>21200</td>\n",
       "      <td>0.815927</td>\n",
       "    </tr>\n",
       "    <tr>\n",
       "      <th>3</th>\n",
       "      <td>1.0</td>\n",
       "      <td>lustre</td>\n",
       "      <td>100K</td>\n",
       "      <td>rectilinear</td>\n",
       "      <td>strong</td>\n",
       "      <td>21200.5888</td>\n",
       "      <td>8.2166</td>\n",
       "      <td>2580.1728</td>\n",
       "      <td>21200</td>\n",
       "      <td>1.311446</td>\n",
       "    </tr>\n",
       "    <tr>\n",
       "      <th>4</th>\n",
       "      <td>2.0</td>\n",
       "      <td>lustre</td>\n",
       "      <td>100K</td>\n",
       "      <td>rectilinear</td>\n",
       "      <td>strong</td>\n",
       "      <td>21200.6912</td>\n",
       "      <td>7.7090</td>\n",
       "      <td>2750.1568</td>\n",
       "      <td>21200</td>\n",
       "      <td>1.397798</td>\n",
       "    </tr>\n",
       "  </tbody>\n",
       "</table>\n",
       "</div>"
      ],
      "text/plain": [
       "   cores backend part_size    part_type test_type   size(MiB)  time(s)  \\\n",
       "0    1.0  lustre      100K  rectilinear    strong  21200.5888   8.5677   \n",
       "1    1.0  lustre      100K  rectilinear    strong  21200.5888  13.1116   \n",
       "2    1.0  lustre      100K  rectilinear    strong  21200.5888  13.2066   \n",
       "3    1.0  lustre      100K  rectilinear    strong  21200.5888   8.2166   \n",
       "4    2.0  lustre      100K  rectilinear    strong  21200.6912   7.7090   \n",
       "\n",
       "   speed(MiB/s)  Data volume(MiB)   speedup  \n",
       "0     2474.4960             21200  1.257703  \n",
       "1     1616.8960             21200  0.821839  \n",
       "2     1605.3248             21200  0.815927  \n",
       "3     2580.1728             21200  1.311446  \n",
       "4     2750.1568             21200  1.397798  "
      ]
     },
     "execution_count": 4,
     "metadata": {},
     "output_type": "execute_result"
    }
   ],
   "source": [
    "df1 = calc_speedup(df, test_type='strong', part_type='rectilinear', backend='lustre', cores=1)\n",
    "df1.head()"
   ]
  },
  {
   "cell_type": "markdown",
   "id": "66941a57",
   "metadata": {},
   "source": [
    "### strong scaling - unstructred part type"
   ]
  },
  {
   "cell_type": "code",
   "execution_count": 5,
   "id": "e50aef5a",
   "metadata": {},
   "outputs": [],
   "source": [
    "# **Dropped**\n",
    "# df2 = calc_speedup(df, test_type='strong', part_type='unstructred', backend='lustre', cores=1)\n",
    "# df2.head()"
   ]
  },
  {
   "cell_type": "markdown",
   "id": "8e0fdc89",
   "metadata": {},
   "source": [
    "## weak scaling"
   ]
  },
  {
   "cell_type": "code",
   "execution_count": 6,
   "id": "5d3d4fb5",
   "metadata": {},
   "outputs": [
    {
     "name": "stdout",
     "output_type": "stream",
     "text": [
      "{'100K': 0.6878794749999999, '10K': 0.2756613, '1K': 0.25986539999999997}\n"
     ]
    },
    {
     "data": {
      "text/html": [
       "<div>\n",
       "<style scoped>\n",
       "    .dataframe tbody tr th:only-of-type {\n",
       "        vertical-align: middle;\n",
       "    }\n",
       "\n",
       "    .dataframe tbody tr th {\n",
       "        vertical-align: top;\n",
       "    }\n",
       "\n",
       "    .dataframe thead th {\n",
       "        text-align: right;\n",
       "    }\n",
       "</style>\n",
       "<table border=\"1\" class=\"dataframe\">\n",
       "  <thead>\n",
       "    <tr style=\"text-align: right;\">\n",
       "      <th></th>\n",
       "      <th>cores</th>\n",
       "      <th>backend</th>\n",
       "      <th>part_size</th>\n",
       "      <th>part_type</th>\n",
       "      <th>test_type</th>\n",
       "      <th>size(MiB)</th>\n",
       "      <th>time(s)</th>\n",
       "      <th>speed(MiB/s)</th>\n",
       "      <th>Data volume(MiB)</th>\n",
       "      <th>speedup</th>\n",
       "    </tr>\n",
       "  </thead>\n",
       "  <tbody>\n",
       "    <tr>\n",
       "      <th>0</th>\n",
       "      <td>1.0</td>\n",
       "      <td>lustre</td>\n",
       "      <td>100K</td>\n",
       "      <td>rectilinear</td>\n",
       "      <td>weak</td>\n",
       "      <td>2650.112</td>\n",
       "      <td>0.572739</td>\n",
       "      <td>4627.0464</td>\n",
       "      <td>2650</td>\n",
       "      <td>1.201034</td>\n",
       "    </tr>\n",
       "    <tr>\n",
       "      <th>1</th>\n",
       "      <td>1.0</td>\n",
       "      <td>lustre</td>\n",
       "      <td>100K</td>\n",
       "      <td>rectilinear</td>\n",
       "      <td>weak</td>\n",
       "      <td>2650.112</td>\n",
       "      <td>0.590729</td>\n",
       "      <td>4486.1440</td>\n",
       "      <td>2650</td>\n",
       "      <td>1.164459</td>\n",
       "    </tr>\n",
       "    <tr>\n",
       "      <th>2</th>\n",
       "      <td>1.0</td>\n",
       "      <td>lustre</td>\n",
       "      <td>100K</td>\n",
       "      <td>rectilinear</td>\n",
       "      <td>weak</td>\n",
       "      <td>2650.112</td>\n",
       "      <td>0.983447</td>\n",
       "      <td>2694.7584</td>\n",
       "      <td>2650</td>\n",
       "      <td>0.699458</td>\n",
       "    </tr>\n",
       "    <tr>\n",
       "      <th>3</th>\n",
       "      <td>1.0</td>\n",
       "      <td>lustre</td>\n",
       "      <td>100K</td>\n",
       "      <td>rectilinear</td>\n",
       "      <td>weak</td>\n",
       "      <td>2650.112</td>\n",
       "      <td>0.604603</td>\n",
       "      <td>4383.2320</td>\n",
       "      <td>2650</td>\n",
       "      <td>1.137737</td>\n",
       "    </tr>\n",
       "    <tr>\n",
       "      <th>4</th>\n",
       "      <td>2.0</td>\n",
       "      <td>lustre</td>\n",
       "      <td>100K</td>\n",
       "      <td>rectilinear</td>\n",
       "      <td>weak</td>\n",
       "      <td>5300.224</td>\n",
       "      <td>1.445600</td>\n",
       "      <td>3666.4320</td>\n",
       "      <td>5300</td>\n",
       "      <td>0.475844</td>\n",
       "    </tr>\n",
       "  </tbody>\n",
       "</table>\n",
       "</div>"
      ],
      "text/plain": [
       "   cores backend part_size    part_type test_type  size(MiB)   time(s)  \\\n",
       "0    1.0  lustre      100K  rectilinear      weak   2650.112  0.572739   \n",
       "1    1.0  lustre      100K  rectilinear      weak   2650.112  0.590729   \n",
       "2    1.0  lustre      100K  rectilinear      weak   2650.112  0.983447   \n",
       "3    1.0  lustre      100K  rectilinear      weak   2650.112  0.604603   \n",
       "4    2.0  lustre      100K  rectilinear      weak   5300.224  1.445600   \n",
       "\n",
       "   speed(MiB/s)  Data volume(MiB)   speedup  \n",
       "0     4627.0464              2650  1.201034  \n",
       "1     4486.1440              2650  1.164459  \n",
       "2     2694.7584              2650  0.699458  \n",
       "3     4383.2320              2650  1.137737  \n",
       "4     3666.4320              5300  0.475844  "
      ]
     },
     "execution_count": 6,
     "metadata": {},
     "output_type": "execute_result"
    }
   ],
   "source": [
    "df3 = calc_speedup(df, test_type='weak', part_type='rectilinear', backend='lustre', cores=1)\n",
    "df3.head()"
   ]
  },
  {
   "cell_type": "markdown",
   "id": "f05d6247",
   "metadata": {},
   "source": [
    "# MinIO"
   ]
  },
  {
   "cell_type": "markdown",
   "id": "f8c4a576",
   "metadata": {},
   "source": [
    "## strong scaling"
   ]
  },
  {
   "cell_type": "code",
   "execution_count": 7,
   "id": "1fc03e38",
   "metadata": {},
   "outputs": [
    {
     "name": "stdout",
     "output_type": "stream",
     "text": [
      "{'100K': 8.4743, '10K': 1.5510666666666666, '1K': 0.5118163}\n"
     ]
    },
    {
     "data": {
      "text/html": [
       "<div>\n",
       "<style scoped>\n",
       "    .dataframe tbody tr th:only-of-type {\n",
       "        vertical-align: middle;\n",
       "    }\n",
       "\n",
       "    .dataframe tbody tr th {\n",
       "        vertical-align: top;\n",
       "    }\n",
       "\n",
       "    .dataframe thead th {\n",
       "        text-align: right;\n",
       "    }\n",
       "</style>\n",
       "<table border=\"1\" class=\"dataframe\">\n",
       "  <thead>\n",
       "    <tr style=\"text-align: right;\">\n",
       "      <th></th>\n",
       "      <th>cores</th>\n",
       "      <th>backend</th>\n",
       "      <th>part_size</th>\n",
       "      <th>part_type</th>\n",
       "      <th>test_type</th>\n",
       "      <th>size(MiB)</th>\n",
       "      <th>time(s)</th>\n",
       "      <th>speed(MiB/s)</th>\n",
       "      <th>Data volume(MiB)</th>\n",
       "      <th>speedup</th>\n",
       "    </tr>\n",
       "  </thead>\n",
       "  <tbody>\n",
       "    <tr>\n",
       "      <th>0</th>\n",
       "      <td>1.0</td>\n",
       "      <td>minio</td>\n",
       "      <td>100K</td>\n",
       "      <td>rectilinear</td>\n",
       "      <td>strong</td>\n",
       "      <td>21200.5888</td>\n",
       "      <td>8.0214</td>\n",
       "      <td>2643.0464</td>\n",
       "      <td>21200</td>\n",
       "      <td>1.056461</td>\n",
       "    </tr>\n",
       "    <tr>\n",
       "      <th>1</th>\n",
       "      <td>1.0</td>\n",
       "      <td>minio</td>\n",
       "      <td>100K</td>\n",
       "      <td>rectilinear</td>\n",
       "      <td>strong</td>\n",
       "      <td>21200.5888</td>\n",
       "      <td>8.2095</td>\n",
       "      <td>2582.4256</td>\n",
       "      <td>21200</td>\n",
       "      <td>1.032255</td>\n",
       "    </tr>\n",
       "    <tr>\n",
       "      <th>2</th>\n",
       "      <td>1.0</td>\n",
       "      <td>minio</td>\n",
       "      <td>100K</td>\n",
       "      <td>rectilinear</td>\n",
       "      <td>strong</td>\n",
       "      <td>21200.5888</td>\n",
       "      <td>9.1920</td>\n",
       "      <td>2306.4576</td>\n",
       "      <td>21200</td>\n",
       "      <td>0.921921</td>\n",
       "    </tr>\n",
       "    <tr>\n",
       "      <th>3</th>\n",
       "      <td>2.0</td>\n",
       "      <td>minio</td>\n",
       "      <td>100K</td>\n",
       "      <td>rectilinear</td>\n",
       "      <td>strong</td>\n",
       "      <td>21200.6912</td>\n",
       "      <td>4.7038</td>\n",
       "      <td>4507.1360</td>\n",
       "      <td>21200</td>\n",
       "      <td>1.801586</td>\n",
       "    </tr>\n",
       "    <tr>\n",
       "      <th>4</th>\n",
       "      <td>2.0</td>\n",
       "      <td>minio</td>\n",
       "      <td>100K</td>\n",
       "      <td>rectilinear</td>\n",
       "      <td>strong</td>\n",
       "      <td>21200.6912</td>\n",
       "      <td>4.9535</td>\n",
       "      <td>4279.9104</td>\n",
       "      <td>21200</td>\n",
       "      <td>1.710770</td>\n",
       "    </tr>\n",
       "  </tbody>\n",
       "</table>\n",
       "</div>"
      ],
      "text/plain": [
       "   cores backend part_size    part_type test_type   size(MiB)  time(s)  \\\n",
       "0    1.0   minio      100K  rectilinear    strong  21200.5888   8.0214   \n",
       "1    1.0   minio      100K  rectilinear    strong  21200.5888   8.2095   \n",
       "2    1.0   minio      100K  rectilinear    strong  21200.5888   9.1920   \n",
       "3    2.0   minio      100K  rectilinear    strong  21200.6912   4.7038   \n",
       "4    2.0   minio      100K  rectilinear    strong  21200.6912   4.9535   \n",
       "\n",
       "   speed(MiB/s)  Data volume(MiB)   speedup  \n",
       "0     2643.0464             21200  1.056461  \n",
       "1     2582.4256             21200  1.032255  \n",
       "2     2306.4576             21200  0.921921  \n",
       "3     4507.1360             21200  1.801586  \n",
       "4     4279.9104             21200  1.710770  "
      ]
     },
     "execution_count": 7,
     "metadata": {},
     "output_type": "execute_result"
    }
   ],
   "source": [
    "df4 = calc_speedup(df, test_type='strong', part_type='rectilinear', backend='minio', cores=1)\n",
    "df4 = df4.drop(df4[df4['cores']==1152].index) # drop unused data\n",
    "df4.head()"
   ]
  },
  {
   "cell_type": "markdown",
   "id": "f0a2ffc9",
   "metadata": {},
   "source": [
    "## weak scaling"
   ]
  },
  {
   "cell_type": "code",
   "execution_count": 8,
   "id": "d262f3d1",
   "metadata": {},
   "outputs": [
    {
     "name": "stdout",
     "output_type": "stream",
     "text": [
      "{'100K': 3.285433333333333, '10K': 0.41697983333333327, '1K': 0.11244356666666666}\n"
     ]
    },
    {
     "data": {
      "text/html": [
       "<div>\n",
       "<style scoped>\n",
       "    .dataframe tbody tr th:only-of-type {\n",
       "        vertical-align: middle;\n",
       "    }\n",
       "\n",
       "    .dataframe tbody tr th {\n",
       "        vertical-align: top;\n",
       "    }\n",
       "\n",
       "    .dataframe thead th {\n",
       "        text-align: right;\n",
       "    }\n",
       "</style>\n",
       "<table border=\"1\" class=\"dataframe\">\n",
       "  <thead>\n",
       "    <tr style=\"text-align: right;\">\n",
       "      <th></th>\n",
       "      <th>cores</th>\n",
       "      <th>backend</th>\n",
       "      <th>part_size</th>\n",
       "      <th>part_type</th>\n",
       "      <th>test_type</th>\n",
       "      <th>size(MiB)</th>\n",
       "      <th>time(s)</th>\n",
       "      <th>speed(MiB/s)</th>\n",
       "      <th>Data volume(MiB)</th>\n",
       "      <th>speedup</th>\n",
       "    </tr>\n",
       "  </thead>\n",
       "  <tbody>\n",
       "    <tr>\n",
       "      <th>0</th>\n",
       "      <td>1.0</td>\n",
       "      <td>minio</td>\n",
       "      <td>100K</td>\n",
       "      <td>rectilinear</td>\n",
       "      <td>weak</td>\n",
       "      <td>2650.112</td>\n",
       "      <td>3.3084</td>\n",
       "      <td>801.0287</td>\n",
       "      <td>2650</td>\n",
       "      <td>0.993058</td>\n",
       "    </tr>\n",
       "    <tr>\n",
       "      <th>1</th>\n",
       "      <td>1.0</td>\n",
       "      <td>minio</td>\n",
       "      <td>100K</td>\n",
       "      <td>rectilinear</td>\n",
       "      <td>weak</td>\n",
       "      <td>2650.112</td>\n",
       "      <td>3.2809</td>\n",
       "      <td>807.7276</td>\n",
       "      <td>2650</td>\n",
       "      <td>1.001382</td>\n",
       "    </tr>\n",
       "    <tr>\n",
       "      <th>2</th>\n",
       "      <td>1.0</td>\n",
       "      <td>minio</td>\n",
       "      <td>100K</td>\n",
       "      <td>rectilinear</td>\n",
       "      <td>weak</td>\n",
       "      <td>2650.112</td>\n",
       "      <td>3.2670</td>\n",
       "      <td>811.1711</td>\n",
       "      <td>2650</td>\n",
       "      <td>1.005642</td>\n",
       "    </tr>\n",
       "    <tr>\n",
       "      <th>3</th>\n",
       "      <td>2.0</td>\n",
       "      <td>minio</td>\n",
       "      <td>100K</td>\n",
       "      <td>rectilinear</td>\n",
       "      <td>weak</td>\n",
       "      <td>5300.224</td>\n",
       "      <td>3.8529</td>\n",
       "      <td>1375.6416</td>\n",
       "      <td>5300</td>\n",
       "      <td>0.852717</td>\n",
       "    </tr>\n",
       "    <tr>\n",
       "      <th>4</th>\n",
       "      <td>2.0</td>\n",
       "      <td>minio</td>\n",
       "      <td>100K</td>\n",
       "      <td>rectilinear</td>\n",
       "      <td>weak</td>\n",
       "      <td>5300.224</td>\n",
       "      <td>3.8504</td>\n",
       "      <td>1376.5632</td>\n",
       "      <td>5300</td>\n",
       "      <td>0.853271</td>\n",
       "    </tr>\n",
       "  </tbody>\n",
       "</table>\n",
       "</div>"
      ],
      "text/plain": [
       "   cores backend part_size    part_type test_type  size(MiB)  time(s)  \\\n",
       "0    1.0   minio      100K  rectilinear      weak   2650.112   3.3084   \n",
       "1    1.0   minio      100K  rectilinear      weak   2650.112   3.2809   \n",
       "2    1.0   minio      100K  rectilinear      weak   2650.112   3.2670   \n",
       "3    2.0   minio      100K  rectilinear      weak   5300.224   3.8529   \n",
       "4    2.0   minio      100K  rectilinear      weak   5300.224   3.8504   \n",
       "\n",
       "   speed(MiB/s)  Data volume(MiB)   speedup  \n",
       "0      801.0287              2650  0.993058  \n",
       "1      807.7276              2650  1.001382  \n",
       "2      811.1711              2650  1.005642  \n",
       "3     1375.6416              5300  0.852717  \n",
       "4     1376.5632              5300  0.853271  "
      ]
     },
     "execution_count": 8,
     "metadata": {},
     "output_type": "execute_result"
    }
   ],
   "source": [
    "df5 = calc_speedup(df, test_type='weak', part_type='rectilinear', backend='minio', cores=1)\n",
    "df5 = df5.drop(df5[df5['cores']==1152].index)\n",
    "df5.head()"
   ]
  },
  {
   "cell_type": "markdown",
   "id": "1b477102",
   "metadata": {},
   "source": [
    "---"
   ]
  },
  {
   "cell_type": "markdown",
   "id": "684be6ea",
   "metadata": {},
   "source": [
    "# Plots"
   ]
  },
  {
   "cell_type": "markdown",
   "id": "da05ec5d",
   "metadata": {},
   "source": [
    "## Compare two backends in small parallel scale"
   ]
  },
  {
   "cell_type": "code",
   "execution_count": 9,
   "id": "aaabca3f",
   "metadata": {
    "scrolled": true
   },
   "outputs": [],
   "source": [
    "tmp1 = df4[df4['cores']<=4]\n",
    "tmp2 = df1[df1['cores']<=4]\n",
    "\n",
    "tmp = pd.concat([tmp1,tmp2], axis=0)\n",
    "tmp.cores = tmp.cores.astype(int)"
   ]
  },
  {
   "cell_type": "code",
   "execution_count": 10,
   "id": "fd49d813",
   "metadata": {},
   "outputs": [
    {
     "data": {
      "image/png": "[encoded data removed]",
      "text/plain": [
       "<Figure size 518.4x288 with 3 Axes>"
      ]
     },
     "metadata": {
      "needs_background": "light"
     },
     "output_type": "display_data"
    }
   ],
   "source": [
    "import seaborn as sns\n",
    "import matplotlib.pyplot as plt\n",
    "\n",
    "x_label='Number of nodes'\n",
    "y_label='Write Speed (MiB/s)'\n",
    "palette='husl'\n",
    "\n",
    "g = sns.relplot(data=tmp, x='cores', y='speed(MiB/s)', col=\"Data volume(MiB)\", hue=\"backend\", style='backend', \n",
    "                 palette=palette, facet_kws={'sharey': True})\n",
    "\n",
    "g.set(ylim=(0, None))\n",
    "sns.set_style(\"whitegrid\", rc={'grid.linestyle': '--'})\n",
    "g.set_axis_labels(x_label, y_label)\n",
    "g.set_titles(col_template=\"Data volume: {col_name} MiB\", row_template=\"{row_name}\")\n",
    "g.tight_layout()\n",
    "g.fig.set_size_inches(7.2,4)\n",
    "leg = g._legend\n",
    "leg.set_bbox_to_anchor([1.12, 0.77])\n",
    "g._legend.set_title('Backend')\n",
    "# replace labels\n",
    "new_labels = ['MinIO', 'Lustre']\n",
    "for t, l in zip(g._legend.texts, new_labels): t.set_text(l)\n",
    "\n",
    "g.savefig('./strong-small-scale.pdf')"
   ]
  },
  {
   "cell_type": "markdown",
   "id": "ccb92b7b",
   "metadata": {},
   "source": [
    "## Plot for Scaling tests"
   ]
  },
  {
   "cell_type": "code",
   "execution_count": 11,
   "id": "9cf4440b",
   "metadata": {},
   "outputs": [],
   "source": [
    "import seaborn as sns\n",
    "import matplotlib.pyplot as plt\n",
    "\n",
    "def sub2plot(df, cate = 'Data volume(MiB)', x_label='Number of nodes', y_label='Write Speed (MiB/s)', \n",
    "             palette='Set1', logy=True, y_type='speed(MiB/s)', sharey=True, legend=True):\n",
    "    g = sns.relplot(data=df, x='cores', y=y_type, hue=cate, col='backend', \n",
    "                    style=cate, palette=palette, col_order=['lustre','minio'], legend=legend,\n",
    "                   facet_kws={'sharey': sharey})\n",
    "    if logy:\n",
    "        g.set(yscale = 'log')\n",
    "    sns.set_style(\"whitegrid\", rc={'grid.linestyle': '--'})\n",
    "    g.set_axis_labels(x_label, y_label)\n",
    "    g.set_titles(col_template=\"Backend: {col_name}\", row_template=\"{row_name}\")\n",
    "    g.tight_layout()\n",
    "    g.fig.set_size_inches(7.2,3)\n",
    "\n",
    "    axes = g.axes.flatten()\n",
    "    axes[0].set_title(\"Lustre\")\n",
    "    axes[1].set_title(\"MinIO\")\n",
    "    \n",
    "    if legend:\n",
    "        leg = g._legend\n",
    "        leg.set_bbox_to_anchor([1.1, 0.8])\n",
    "    \n",
    "    return g"
   ]
  },
  {
   "cell_type": "markdown",
   "id": "2020b63f",
   "metadata": {},
   "source": [
    "### strong scaling speed"
   ]
  },
  {
   "cell_type": "code",
   "execution_count": 12,
   "id": "784d4ebe",
   "metadata": {},
   "outputs": [
    {
     "data": {
      "image/png": "[encoded data removed]",
      "text/plain": [
       "<Figure size 518.4x216 with 2 Axes>"
      ]
     },
     "metadata": {},
     "output_type": "display_data"
    }
   ],
   "source": [
    "g = sub2plot(pd.concat([df4,df1], axis=0))\n",
    "g.savefig('./strong-speed.pdf')"
   ]
  },
  {
   "cell_type": "markdown",
   "id": "0777396b",
   "metadata": {},
   "source": [
    "### strong scaling speedup"
   ]
  },
  {
   "cell_type": "code",
   "execution_count": 13,
   "id": "9ca9ad6a",
   "metadata": {},
   "outputs": [
    {
     "data": {
      "image/png": "[encoded data removed]",
      "text/plain": [
       "<Figure size 518.4x216 with 2 Axes>"
      ]
     },
     "metadata": {},
     "output_type": "display_data"
    }
   ],
   "source": [
    "tmp = pd.concat([df1, df4], axis=0)\n",
    "tmp = tmp[['cores','backend','speedup','Data volume(MiB)']].groupby(\n",
    "    ['cores', 'backend', 'Data volume(MiB)'], as_index=False).mean()\n",
    "\n",
    "g = sub2plot(tmp, logy=False, \n",
    "             y_type='speedup', y_label='Strong Scaling Speedup', sharey=True)\n",
    "g.savefig('./strong-speedup.pdf')"
   ]
  },
  {
   "cell_type": "markdown",
   "id": "d08b9bcd",
   "metadata": {},
   "source": [
    "### weak scaling speed"
   ]
  },
  {
   "cell_type": "code",
   "execution_count": 14,
   "id": "0abed697",
   "metadata": {},
   "outputs": [
    {
     "data": {
      "image/png": "[encoded data removed]",
      "text/plain": [
       "<Figure size 518.4x216 with 2 Axes>"
      ]
     },
     "metadata": {},
     "output_type": "display_data"
    }
   ],
   "source": [
    "g = sub2plot(pd.concat([df3, df5], axis=0), cate='part_size')\n",
    "g.savefig('./weak-speed.pdf')"
   ]
  },
  {
   "cell_type": "markdown",
   "id": "25d9ba70",
   "metadata": {},
   "source": [
    "### weak scaling efficiency"
   ]
  },
  {
   "cell_type": "code",
   "execution_count": 15,
   "id": "4e8978f9",
   "metadata": {},
   "outputs": [
    {
     "data": {
      "image/png": "[encoded data removed]",
      "text/plain": [
       "<Figure size 518.4x216 with 2 Axes>"
      ]
     },
     "metadata": {},
     "output_type": "display_data"
    }
   ],
   "source": [
    "tmp = pd.concat([df3, df5], axis=0)\n",
    "tmp = tmp[['cores','backend','speedup','part_size']].groupby(\n",
    "    ['cores', 'backend', 'part_size'], as_index=False).mean()\n",
    "                \n",
    "g = sub2plot(tmp, logy=False, cate='part_size', \n",
    "             y_type='speedup', y_label='Weak Scaling Efficiency', legend=True)\n",
    "g.axes[0][0].plot([1, 32], [1, 1], linewidth=1, label='ideal')\n",
    "g.axes[0][1].plot([1, 32], [1, 1], linewidth=1, label='ideal')\n",
    "\n",
    "plt.legend(title='', loc='upper left', bbox_to_anchor=(1.11, 0.64), frameon=False)\n",
    "\n",
    "g.savefig('./weak-effi.pdf')"
   ]
  },
  {
   "cell_type": "markdown",
   "id": "751f5f4f",
   "metadata": {},
   "source": [
    "---"
   ]
  },
  {
   "cell_type": "markdown",
   "id": "a68e416e",
   "metadata": {},
   "source": [
    "## Other functions that have been abandoned"
   ]
  },
  {
   "cell_type": "code",
   "execution_count": 16,
   "id": "29c26b83",
   "metadata": {},
   "outputs": [
    {
     "data": {
      "image/png": "[encoded data removed]",
      "text/plain": [
       "<Figure size 504x216 with 2 Axes>"
      ]
     },
     "metadata": {},
     "output_type": "display_data"
    }
   ],
   "source": [
    "def boxplotsub(df, cate = 'Data volume(MiB)', x_label='Number of Cores', y_label='Write Speed (MiB/s)', \n",
    "             palette='Set1', logy=True, y_type='speed(MiB/s)', sharey=True):\n",
    "    \n",
    "    g = sns.catplot(x=\"cores\", y=y_type,hue=cate, \n",
    "                col=\"backend\",data=df, kind=\"box\",height=4, aspect=.9, \n",
    "                    palette=palette, sharey=sharey, col_order=['lustre','minio'], linewidth=0.8)\n",
    "    if logy:\n",
    "        g.set(yscale = 'log')\n",
    "    # g.add_legend()\n",
    "    sns.set_style(\"whitegrid\", rc={'grid.linestyle': '--'})\n",
    "    g.set_axis_labels(x_label, y_label)\n",
    "    g.set_titles(col_template=\"Backend: {col_name}\", row_template=\"{row_name}\")\n",
    "    g.tight_layout()\n",
    "    g.fig.set_size_inches(7,3)\n",
    "\n",
    "    axes = g.axes.flatten()\n",
    "    axes[0].set_title(\"Lustre\")\n",
    "    axes[1].set_title(\"MinIO\")\n",
    "\n",
    "#     plt.legend(title=cate, loc='upper left', bbox_to_anchor=(1, 1), frameon=False)\n",
    "\n",
    "    return g\n",
    "\n",
    "g = boxplotsub(pd.concat([df4,df1], axis=0))\n",
    "# g.savefig('./testt-box.pdf')"
   ]
  },
  {
   "cell_type": "code",
   "execution_count": 17,
   "id": "f99cf749",
   "metadata": {},
   "outputs": [
    {
     "data": {
      "image/png": "[encoded data removed]",
      "text/plain": [
       "<Figure size 432x288 with 1 Axes>"
      ]
     },
     "metadata": {},
     "output_type": "display_data"
    }
   ],
   "source": [
    "import seaborn as sns\n",
    "# plt.style.use(['science'])\n",
    "\n",
    "# plt.style.use('default')\n",
    "def df_boxplot(df, y=\"speed(MiB/s)\", ylabel='Write Speed (MiB/s)', cate='Data volume(MiB)',  palette=\"Set1\"):\n",
    "    fig, ax = plt.subplots()\n",
    "#     ax.grid(axis=\"y\", linestyle = '-',linewidth =1, color= 'gray',alpha = 1, zorder=0)\n",
    "    sns.set_style(\"whitegrid\", rc={'grid.linestyle': '--'})\n",
    "\n",
    "    ax = sns.scatterplot(x=\"cores\", y=y, hue=cate,\n",
    "                     data=df, palette=palette, linewidth=1, ax=ax)\n",
    "#     ax = sns.boxplot(x=\"cores\", y=y, hue=cate,\n",
    "#                      data=df, palette=palette, linewidth=1, ax=ax)\n",
    "#     ax = sns.swarmplot(x=\"cores\", y=y, hue=cate,\n",
    "#                      data=df, palette=palette, size=4, linewidth=1, ax=ax, dodge=True)\n",
    "#     ax = sns.stripplot(x=\"cores\", y=y, hue=cate,\n",
    "#                      data=df, palette=palette, size=7, linewidth=0.5, ax=ax, jitter=1, dodge=True)\n",
    "    ax.set_yscale('log')\n",
    "    ax.set_xlabel('Number of Cores')\n",
    "    ax.set_ylabel(ylabel)\n",
    "    sns.move_legend(ax, \"upper left\", bbox_to_anchor=(1, 1))\n",
    "    \n",
    "\n",
    "\n",
    "df_boxplot(df1, palette='Set1')\n",
    "# plt.savefig('./strong-lustre-speed.pdf')"
   ]
  },
  {
   "cell_type": "code",
   "execution_count": null,
   "id": "023a4966",
   "metadata": {},
   "outputs": [],
   "source": []
  }
 ],
 "metadata": {
  "interpreter": {
   "hash": "850d2457ec94f788c31df63ce364d61f87e60d3d9b79dfb19f90285b3da195dc"
  },
  "kernelspec": {
   "display_name": "Python 3 (ipykernel)",
   "language": "python",
   "name": "python3"
  },
  "language_info": {
   "codemirror_mode": {
    "name": "ipython",
    "version": 3
   },
   "file_extension": ".py",
   "mimetype": "text/x-python",
   "name": "python",
   "nbconvert_exporter": "python",
   "pygments_lexer": "ipython3",
   "version": "3.9.6"
  }
 },
 "nbformat": 4,
 "nbformat_minor": 5
}
